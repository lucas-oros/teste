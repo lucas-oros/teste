{
 "metadata": {
  "language_info": {
   "codemirror_mode": {
    "name": "ipython",
    "version": 3
   },
   "file_extension": ".py",
   "mimetype": "text/x-python",
   "name": "python",
   "nbconvert_exporter": "python",
   "pygments_lexer": "ipython3",
   "version": "3.9.2-final"
  },
  "orig_nbformat": 2,
  "kernelspec": {
   "name": "python392jvsc74a57bd0fd578b525fe7fcca8a3ea11350d18bcbeb29af20bd1df15f6c5fd2c9cf111483",
   "display_name": "Python 3.9.2 64-bit"
  },
  "metadata": {
   "interpreter": {
    "hash": "fd578b525fe7fcca8a3ea11350d18bcbeb29af20bd1df15f6c5fd2c9cf111483"
   }
  }
 },
 "nbformat": 4,
 "nbformat_minor": 2,
 "cells": [
  {
   "source": [
    "Teste - base tiktok\n",
    "\n",
    "hashtags"
   ],
   "cell_type": "markdown",
   "metadata": {}
  },
  {
   "cell_type": "code",
   "execution_count": 1,
   "metadata": {},
   "outputs": [],
   "source": [
    "from dateutil.parser import parse \n",
    "import matplotlib as mpl\n",
    "import matplotlib.pyplot as plt\n",
    "import seaborn as sns\n",
    "import numpy as np\n",
    "import os\n",
    "import itertools\n",
    "import pandas as pd\n",
    "import openpyxl\n",
    "import pandas as pd\n",
    "plt.rcParams.update({'figure.figsize': (10, 7), 'figure.dpi': 120})"
   ]
  },
  {
   "cell_type": "code",
   "execution_count": 2,
   "metadata": {},
   "outputs": [
    {
     "output_type": "stream",
     "name": "stderr",
     "text": [
      "C:\\Users\\lucas\\AppData\\Roaming\\Python\\Python39\\site-packages\\IPython\\core\\interactiveshell.py:3165: DtypeWarning: Columns (3) have mixed types.Specify dtype option on import or set low_memory=False.\n  has_raised = await self.run_ast_nodes(code_ast.body, cell_name,\n"
     ]
    }
   ],
   "source": [
    "df = pd.read_csv('IMDb movies.csv', delimiter=\",\")"
   ]
  },
  {
   "cell_type": "code",
   "execution_count": 3,
   "metadata": {},
   "outputs": [],
   "source": [
    "df = df.dropna(subset = ['actors'])"
   ]
  },
  {
   "cell_type": "code",
   "execution_count": 4,
   "metadata": {},
   "outputs": [],
   "source": [
    "for i, row in df.iterrows():\n",
    "    try:\n",
    "        itertools.combinations(row.actors, 2)\n",
    "    except Exception as e: \n",
    "        print(row.actors)\n",
    "        print(i)\n",
    "        print(str(e))\n",
    "        break"
   ]
  },
  {
   "cell_type": "code",
   "execution_count": 5,
   "metadata": {},
   "outputs": [
    {
     "output_type": "stream",
     "name": "stdout",
     "text": [
      "TV Movie 2019\n83917\ncould not convert string to float: 'TV Movie 2019'\n"
     ]
    }
   ],
   "source": [
    "for i, row in df.iterrows():\n",
    "    try:\n",
    "        float(row.year)\n",
    "    except Exception as e: \n",
    "        print(row.year)\n",
    "        print(i)\n",
    "        print(str(e))\n",
    "        break"
   ]
  },
  {
   "cell_type": "code",
   "execution_count": 6,
   "metadata": {},
   "outputs": [],
   "source": [
    "df = df[(df.year != 'TV Movie 2019')]"
   ]
  },
  {
   "cell_type": "code",
   "execution_count": 26,
   "metadata": {},
   "outputs": [],
   "source": [
    "for i, row in df.iterrows():\n",
    "    try:\n",
    "        float(row.year)\n",
    "    except Exception as e: \n",
    "        print(row.year)\n",
    "        print(i)\n",
    "        print(str(e))\n",
    "        break"
   ]
  },
  {
   "cell_type": "code",
   "execution_count": 7,
   "metadata": {},
   "outputs": [],
   "source": [
    "df['year'] = df['year'].apply(float)"
   ]
  },
  {
   "cell_type": "code",
   "execution_count": 27,
   "metadata": {},
   "outputs": [],
   "source": [
    "dff = df[df.year >= 2000]\n",
    "dff = dff.dropna(subset = ['budget'])\n",
    "dff = dff.dropna(subset = ['worlwide_gross_income'])"
   ]
  },
  {
   "cell_type": "code",
   "execution_count": 28,
   "metadata": {},
   "outputs": [],
   "source": [
    "dff['income'] = dff.worlwide_gross_income.apply(lambda v: str.replace(v,'$',''))\n"
   ]
  },
  {
   "cell_type": "code",
   "execution_count": 29,
   "metadata": {},
   "outputs": [],
   "source": [
    "dff['income'] = dff['income'].apply(float)"
   ]
  },
  {
   "cell_type": "code",
   "execution_count": 30,
   "metadata": {},
   "outputs": [],
   "source": [
    "dff = dff[dff.income >= 1000000]"
   ]
  },
  {
   "cell_type": "code",
   "execution_count": 31,
   "metadata": {},
   "outputs": [],
   "source": [
    "dff['rev'] = dff['reviews_from_users'].apply(float)\n",
    "dff = dff[dff.rev >= 50]"
   ]
  },
  {
   "cell_type": "code",
   "execution_count": 32,
   "metadata": {},
   "outputs": [],
   "source": [
    "dff['rev2'] = dff['reviews_from_critics'].apply(float)\n",
    "dff = dff[dff.rev2 >= 50]"
   ]
  },
  {
   "cell_type": "code",
   "execution_count": 33,
   "metadata": {},
   "outputs": [],
   "source": [
    "dff['votes'] = dff['votes'].apply(float)\n",
    "dff = dff[dff.rev2 >= 200]"
   ]
  },
  {
   "cell_type": "code",
   "execution_count": 34,
   "metadata": {},
   "outputs": [
    {
     "output_type": "execute_result",
     "data": {
      "text/plain": [
       "(1491, 25)"
      ]
     },
     "metadata": {},
     "execution_count": 34
    }
   ],
   "source": [
    "dff.shape"
   ]
  },
  {
   "cell_type": "code",
   "execution_count": 44,
   "metadata": {},
   "outputs": [],
   "source": [
    "dff['actors'] = dff['actors'].apply(lambda v: v.split(', '))"
   ]
  },
  {
   "cell_type": "code",
   "execution_count": 45,
   "metadata": {},
   "outputs": [
    {
     "output_type": "execute_result",
     "data": {
      "text/plain": [
       "31279    [Alan Howard, Noel Appleby, Sean Astin, Sala B...\n",
       "31291    [Tom Cruise, Dougray Scott, Thandie Newton, Vi...\n",
       "31326    [Ryan McCluskey, Oscar Pearce, Indra Ové, Anna...\n",
       "31381    [Hugh Jackman, Patrick Stewart, Ian McKellen, ...\n",
       "31385    [Tommy Lee Jones, Will Smith, Rip Torn, Lara F...\n",
       "                               ...                        \n",
       "84158    [Matthew McConaughey, Charlie Hunnam, Michelle...\n",
       "84442    [Dean-Charles Chapman, George MacKay, Daniel M...\n",
       "84553    [Tim Matheson, Ben Andrusco-Daon, Zahra Anders...\n",
       "84701    [Florence Pugh, Jack Reynor, Vilhelm Blomgren,...\n",
       "84912    [Daniel Craig, Chris Evans, Ana de Armas, Jami...\n",
       "Name: actors, Length: 1491, dtype: object"
      ]
     },
     "metadata": {},
     "execution_count": 45
    }
   ],
   "source": [
    "lista"
   ]
  },
  {
   "cell_type": "code",
   "execution_count": 46,
   "metadata": {},
   "outputs": [],
   "source": [
    "hashtags_pairs = list()\n",
    "hashtags_use = list()\n",
    "hashtags_combinations = lista.apply(lambda x: list(itertools.combinations(x, 2)))\n",
    "flat_list = [item for sublist in hashtags_combinations for item in sublist]\n",
    "for hash1, hash2 in flat_list:\n",
    "    hashtags_pairs.append({\n",
    "        'source': hash1,\n",
    "        'target': hash2,\n",
    "                })"
   ]
  },
  {
   "cell_type": "code",
   "execution_count": 49,
   "metadata": {},
   "outputs": [],
   "source": [
    "df = pd.DataFrame(hashtags_pairs)"
   ]
  },
  {
   "cell_type": "code",
   "execution_count": 51,
   "metadata": {},
   "outputs": [
    {
     "output_type": "execute_result",
     "data": {
      "text/plain": [
       "152552"
      ]
     },
     "metadata": {},
     "execution_count": 51
    }
   ],
   "source": [
    "len(hashtags_pairs)"
   ]
  }
 ]
}